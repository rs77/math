{
 "cells": [
  {
   "metadata": {},
   "cell_type": "markdown",
   "source": [
    "## Compound Angles\n",
    "\n",
    "Remember the common angles and their exact values for each of the following:\n",
    "\n",
    "| Trig | $30^{\\circ} = \\frac{\\pi}{6}$ | $45^{\\circ} = \\frac{\\pi}{4}$ | $60^{\\circ} = \\frac{\\pi}{3}$ | $90^{\\circ} = \\frac{\\pi}{2}$ |\n",
    "|---|------------------------------|------------------------------|------------------------------|------------------------------|\n",
    "| $\\sin$ | $\\frac{1}{2}$                | $\\frac{1}{\\sqrt{2}}$         | $\\frac{\\sqrt{3}}{2}$         | $1$                          |\n",
    "| $\\cos$ | $\\frac{\\sqrt{3}}{2}$         | $\\frac{1}{\\sqrt{2}}$         | $\\frac{1}{2}$                | $0$                          |\n",
    "| $\\tan$ | $\\frac{1}{\\sqrt{3}}$         | $1$                          | $\\sqrt{3}$                   | $\\infty$                     |   \n",
    "\n",
    "With the above table that the exact $\\sin$ value when divided by the $\\cos$ will equal the $\\tan$ value.\n",
    "\n",
    "When working with fractions outside these defined, we need to apply compounding to assist.\n",
    "\n",
    "Sometimes we may need to compound an angle more than once!"
   ],
   "id": "d2e494eb3616bde3"
  },
  {
   "metadata": {},
   "cell_type": "markdown",
   "source": [
    "### Sum & Difference Formulas\n",
    "\n",
    "To evaluate the **exact value** of an angle we need to apply compounding so that we can arrive at the precise value for the given angle.\n",
    "\n",
    "For example, if asked to find the *exact value* of $\\sin(75^{\\circ})$ we can calculate this by using our *known* exact angles of $30^{\\circ}, 45^{\\circ}, 60^{\\circ}$, therefore, $75^{\\circ} = 45^{\\circ} + 30^{\\circ}$.\n",
    "\n",
    "However, when using compound formulas we need to apply a specific computation in handling these values:\n",
    "\n",
    "$$\\begin{align*}\n",
    "\\sin(a + b) &= \\sin(a)\\cos(b) + \\cos(a)\\sin(b) \\\\\n",
    "\\, \\\\\n",
    "\\sin(a - b) &= \\sin(a)\\cos(b) - \\cos(a)\\sin(b) \\\\\n",
    "\\, \\\\\n",
    "\\cos(a + b) &= \\cos(a)\\cos(b) - \\sin(a)\\sin(b) \\\\\n",
    "\\, \\\\\n",
    "\\cos(a - b) &= \\cos(a)\\cos(b) + \\sin(a)\\sin(b) \\\\\n",
    "\\, \\\\\n",
    "\\tan(a + b) &= \\frac{\\tan(a) + \\tan(b)}{1 - \\tan(a)\\tan(b)} \\\\\n",
    "\\, \\\\\n",
    "\\tan(a - b) &= \\frac{\\tan(a) - \\tan(b)}{1 + \\tan(a)\\tan(b)}\n",
    "\\end{align*}$$"
   ],
   "id": "2dc0241a6b651269"
  },
  {
   "metadata": {},
   "cell_type": "markdown",
   "source": [
    "#### Example\n",
    "\n",
    "$$\\begin{align*}\n",
    "\\sin(75^{\\circ}) & &&\\text{question} \\\\\n",
    "\\sin(45^{\\circ} + 30^{\\circ}) & &&\\text{convert $75$ to compound of 2 values} \\\\\n",
    "\\sin(45^{\\circ} + 30^{\\circ}) &= \\sin(a)\\cos(b) + \\cos(a)\\sin(b) &&\\text{find formula to use} \\\\\n",
    "\\sin(45^{\\circ})\\cos(30^{\\circ}) + \\cos(45^{\\circ})\\sin(30^{\\circ}) & &&\\text{substitute $a = 45^{\\circ}$ and $b = 30^{\\circ}$} \\\\\n",
    "\\frac{1}{\\sqrt{2}} \\times \n",
    "\\end{align*}$$"
   ],
   "id": "eeaeaa85fd2cb5a9"
  },
  {
   "metadata": {},
   "cell_type": "markdown",
   "source": [
    "## Double Angles\n",
    "\n",
    "Doubles angles are when we have two $\\theta$ values, like $\\sin(2\\theta)$.\n",
    "\n",
    "In the same fashion we split an angle into multiple angles and found the sum (or difference), we can do the same again here with double angles:\n",
    "\n",
    "$$\\begin{align*}\n",
    "\\sin(2\\theta) &= \\sin(\\theta + \\theta) \\\\\n",
    "\\cos(2\\theta) &= \\cos(\\theta + \\theta) \\\\\n",
    "\\tan(2\\theta) &= \\tan(\\theta + \\theta)\n",
    "\\end{align*}$$\n"
   ],
   "id": "ea610f8169911a80"
  },
  {
   "metadata": {},
   "cell_type": "markdown",
   "source": [
    "We then substitute these values into the same **sum/difference formulas** above.\n",
    "\n",
    "Therefore, each of the above would create the following:"
   ],
   "id": "c3c01e83f0b119e3"
  },
  {
   "metadata": {},
   "cell_type": "markdown",
   "source": [
    "### Double Sine Angles\n",
    "\n",
    "$$\\begin{align*}\n",
    "\\sin(2\\theta) &= \\sin(\\theta + \\theta) \\\\ \n",
    "\\sin(2\\theta) &= \\sin(\\theta)\\cos(\\theta) + \\cos(\\theta)\\sin(\\theta) &&\\text{use \n",
    "$sin(a + b)$ formula} \\\\\n",
    "\\sin(2\\theta) &= 2\\sin(\\theta)\\cos(\\theta)\n",
    "\\end{align*}$$"
   ],
   "id": "86aaf95bee20d03e"
  },
  {
   "metadata": {},
   "cell_type": "markdown",
   "source": [
    "### Double Cosine Angles\n",
    "\n",
    "$$\\begin{align*}\n",
    "\\cos(2\\theta) &= \\cos(\\theta + \\theta) \\\\\n",
    "\\cos(2\\theta) &= \\cos(\\theta)\\cos(\\theta) - \\sin(\\theta)\\sin(\\theta) &&\\text{use $\\cos(a + b)$ formula} \\\\\n",
    "\\cos(2\\theta) &= \\cos^2(\\theta) - \\sin^2(\\theta)\n",
    "\\end{align*}$$\n",
    "\n",
    "Using the formula $\\cos^2(\\theta) + \\sin^2(\\theta) = 1$ we can also formula the other functions which equal $\\cos(2\\theta)$.\n",
    "\n",
    "What other two functions can you derive?\n",
    "\n",
    "$$\\begin{align*}\n",
    "\\cos(2\\theta) = 1 - 2\\sin^2(\\theta) \\\\\n",
    "\\cos(2\\theta) = 2\\cos^2(\\theta) - 1\n",
    "\\end{align*}$$"
   ],
   "id": "a1a05ba93c582da"
  },
  {
   "metadata": {},
   "cell_type": "markdown",
   "source": [
    "### Double Tangent Angles\n",
    "\n",
    "$$\\begin{align*}\n",
    "\\tan(2\\theta) &= \\frac{\\tan(\\theta) + \\tan(\\theta)}{1 - \\tan(\\theta)\\tan(\\theta)} \\\\\n",
    "\\, \\\\\n",
    "\\tan(2\\theta) &=  \\frac{2\\tan(\\theta)}{1 - \\tan^2(\\theta)}\n",
    "\\end{align*}$$"
   ],
   "id": "c892f594dfb6a206"
  },
  {
   "metadata": {},
   "cell_type": "code",
   "outputs": [],
   "execution_count": null,
   "source": "",
   "id": "3cb23205937c9563"
  }
 ],
 "metadata": {
  "kernelspec": {
   "display_name": "Python 3",
   "language": "python",
   "name": "python3"
  },
  "language_info": {
   "codemirror_mode": {
    "name": "ipython",
    "version": 2
   },
   "file_extension": ".py",
   "mimetype": "text/x-python",
   "name": "python",
   "nbconvert_exporter": "python",
   "pygments_lexer": "ipython2",
   "version": "2.7.6"
  }
 },
 "nbformat": 4,
 "nbformat_minor": 5
}
