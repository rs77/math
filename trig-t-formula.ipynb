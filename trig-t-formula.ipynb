{
 "cells": [
  {
   "metadata": {},
   "cell_type": "markdown",
   "source": [
    "# T-Formula\n",
    "\n",
    "We can use a formula known as the \"t-formula\" to use algebra to assist in solving for trigonometric functions.\n",
    "\n",
    "The t-formula is $t = \\tan\\left(\\frac{\\theta}{2}\\right)$\n",
    "\n",
    "It can be used to help solve equations using $\\sin(\\theta)$ and $\\cos(\\theta)$.\n",
    "\n",
    "Here are the formulas used with other trigonometric functions:\n",
    "\n",
    "$$\\begin{align*}\n",
    "\\sin(\\theta) &= \\frac{2t}{1 - t^2} \\\\\n",
    "\\, \\\\\n",
    "\\cos(\\theta) &= \\frac{1 - t^2}{t^2 + 1} \\\\\n",
    "\\, \\\\\n",
    "\\tan(\\theta) &= \\frac{2t}{1 - t^2}\n",
    "\\end{align*}$$"
   ],
   "id": "f42fd45e320b0d2"
  },
  {
   "metadata": {},
   "cell_type": "markdown",
   "source": [
    "### Testing T-formula at $180^{\\circ}$\n",
    "\n",
    "We need to test for $180^{\\circ}$ after evaluating for $\\theta$ when using the t-formula.\n",
    "\n",
    "Example, \n",
    "\n",
    "$$\\begin{align*}\n",
    "\\sin(\\theta) - \\cos(\\theta) = 1 \\\\\n",
    "...\n",
    "\\end{align*}$$"
   ],
   "id": "42b26d622bae0cda"
  },
  {
   "metadata": {},
   "cell_type": "code",
   "outputs": [],
   "execution_count": null,
   "source": "",
   "id": "bb081a92de31665e"
  }
 ],
 "metadata": {
  "kernelspec": {
   "display_name": "Python 3",
   "language": "python",
   "name": "python3"
  },
  "language_info": {
   "codemirror_mode": {
    "name": "ipython",
    "version": 2
   },
   "file_extension": ".py",
   "mimetype": "text/x-python",
   "name": "python",
   "nbconvert_exporter": "python",
   "pygments_lexer": "ipython2",
   "version": "2.7.6"
  }
 },
 "nbformat": 4,
 "nbformat_minor": 5
}
