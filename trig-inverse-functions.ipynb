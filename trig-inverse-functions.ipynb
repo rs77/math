{
 "cells": [
  {
   "metadata": {},
   "cell_type": "markdown",
   "source": [
    "# Inverse Trig Functions\n",
    "\n",
    "#### Definition\n",
    "\n",
    "To inverse a function simply swap the $x$ and $y$ values around in the original function. Then rearrange the original function with the newly swapped $x$ and $y$ value to make $y$ the subject.\n",
    "\n",
    "#### Problems\n",
    "\n",
    "Not *every* function can be transformed into its inverse type. \n",
    "\n",
    "Inverse functions need to satisfy the **horizontal rule test** which is simply a one-to-one relationship between the $x$ and $y$ values.\n",
    "\n",
    "For example, a simple quadratic equation $y = x^2$ cannot be readily transformed into an inverse function as it **fails** the horizontal rule test. Why? When $x = 1, y = 1$ and when $x = -1, y = 1$ even though we have two distinct $x$ values, they give the **same** $y$ value.\n",
    "\n",
    "#### Circumventing the problem\n",
    "\n",
    "To get around this issue we can truncate the domain of $x$ values to restrict the function so that it *can* satisfy the horizontal rule test.\n",
    "\n",
    "For example, we can achieve the inverse function of $y = x^2$ by restricting the domain of this function to $0 \\leq x \\leq \\infty \\\\, \\text{(or as an interval: $[0, \\infty)$)}$ "
   ],
   "id": "ecd88496bafaf662"
  },
  {
   "metadata": {},
   "cell_type": "markdown",
   "source": [
    "### Simple Inverse Function Example\n",
    "\n",
    "Here's a simple example demonstrating the construction of an inverse function from it's original function: $y = 2x^2 - 4$\n",
    "\n",
    "$$\\begin{align*}\n",
    "y &= 2x^2 - 4 &&\\text{original function} \\\\\n",
    "x &= 2y^2 - 4 &&\\text{swap $x$ and $y$} \\\\\n",
    "x + 4 &= 2y^2 \\cancel{- 4 + 4} &&\\text{$+ \\ 4$ both sides} \\\\\n",
    "\\frac{x + 4}{2} &= \\frac{\\cancel{2}y^2}{\\cancel{2}} &&\\text{$\\div \\ 2$ both sides} \\\\\n",
    "\\sqrt{\\frac{x + 4}{2}} &= \\sqrt{y^{\\cancel{2}}} &&\\text{square root both sides}& \\\\\n",
    "y &= \\sqrt{\\frac{x + 4}{2}} &&\\text{inverse function}\n",
    "\\end{align*}$$"
   ],
   "id": "84273e24ed8b690b"
  },
  {
   "metadata": {},
   "cell_type": "markdown",
   "source": [
    "## Constructing Inverse Trigonometric Functions\n",
    "\n",
    "The problem we have with trigonometric functions is that $y = \\sin(x)$, $y = \\cos(x)$ and $y = \\tan(x)$ all **fail** the horizontal rule test.\n",
    "\n",
    "So how we can we construct them?\n",
    "\n",
    "We can start to construct these inverse functions by *restricting* the domain to one full cycle. "
   ],
   "id": "4cc4c9fe2b052089"
  },
  {
   "metadata": {},
   "cell_type": "markdown",
   "source": [
    "#### Question\n",
    "\n",
    "What would the **restricted** domain need to be for each trigonometric function to complete a full cycle?\n",
    "\n",
    "#### Answer\n",
    "\n",
    "##### $y = \\sin(x)$\n",
    "\n",
    "A cycle that satisfies the horizontal rule test is within the domain $\\frac{-\\pi}{2} \\leq x \\leq \\frac{\\pi}{2}$.\n",
    "\n",
    "##### $y = \\cos(x)$\n",
    "\n",
    "A cycle that satisfies the horizontal rule test is within the domain $0 \\leq x \\leq \\pi$.\n",
    "\n",
    "##### $y = \\tan(x)$\n",
    "\n",
    "A cycle that satisfies the horizontal rule test is within the domain $\\frac{-\\pi}{2} \\leq x \\leq \\frac{\\pi}{2}$.  "
   ],
   "id": "d8698d3b15ada53e"
  },
  {
   "metadata": {},
   "cell_type": "markdown",
   "source": [
    "\n",
    "### Formulating Inverse Trigonometric Functions\n",
    "\n",
    "Generally when trying to solve the angle of a right-angled triangle, we would formulate an approach by using an appropriate trigonometric function by starting like this:\n",
    "\n",
    "$$\\tan{\\theta} = \\frac{\\text{opposite}}{\\text{adjacent}}$$\n",
    "\n",
    "If we had a right angled triangle where the side opposite the $\\theta$ was of the length $10$ and the side adjacent to $\\theta$ was $17.3$, then we would substitute into our formula above these values:\n",
    "\n",
    "$$\\tan{\\theta} = \\frac{10}{17.3}$$\n",
    "\n",
    "The way we would read this constructed formula, would be something like this:\n",
    "\n",
    "> *What angle of $\\theta$ can I $\\tan$ to get $\\frac{10}{17.3}$?*\n",
    "\n",
    "To find the answer to this question we would use the **inverse function** on our calculator to obtain the angle $\\theta$. Our calculator should contain the **inverse function** by using the *2nd* or *Shift* button of our trigonometric function.\n",
    "\n",
    "We can see what this **inverse function** looks like on our calculator as it is generally annotated like:\n",
    "\n",
    "+ $\\tan^{-1}(x)$\n",
    "\n",
    "Another way the **inverse function** can be written is be prefixing the standard trigonometric functions with `arc`, therefore these are the same thing:\n",
    " \n",
    "+ $\\arctan(x) = \\tan^{-1}(x)$\n",
    "+ $\\arcsin(x) = \\sin^{-1}(x)$\n",
    "+ $\\arccos(x) = \\cos^{-1}(x)$"
   ],
   "id": "102da5809db2056f"
  },
  {
   "metadata": {},
   "cell_type": "markdown",
   "source": [
    "### Example Inverse Trigonometric Calculation\n",
    "\n",
    "We use the **inverse function** to find the angle according to the ratio between the opposite, adjacent or hypotenuse depending upon the trigonometric function we are using.\n",
    "\n",
    "$$\\begin{align*}\n",
    "2\\sin(x) &= -3\\cos(x) \\\\\n",
    "\\frac{\\sin(x)}{\\cos(x)} &= \\frac{-3}{2} \\\\\n",
    "\\tan(x) &= \\frac{-3}{2} \\\\\n",
    "x &= \\tan^{-1}\\left({\\frac{-3}{2}}\\right) \\\\\n",
    "x &= -56.31^{\\circ}\n",
    "\\end{align*}$$"
   ],
   "id": "8534a8f29e45986c"
  },
  {
   "metadata": {},
   "cell_type": "markdown",
   "source": [
    "### What the Inverse Trigonometric Function is NOT\n",
    "\n",
    "Be careful to note that the **reciprocal** of a trigonometric function, like $\\tan(x)$, is not the same as the **inverse** of that trigonometric function, like $\\tan^{-1}(x)$.\n",
    "\n",
    "While algebraic indices may write the reciprocal of an expression by using a power raised to $-1$, it is not the same behaviour in trigonometric functions. \n",
    "\n",
    "Therefore, while $a^{-1} = \\frac{1}{a}$ it is not the same in trigonometric functions $\\tan^{-1}{x} \\neq \\frac{1}{\\tan{x}}$.\n",
    "\n",
    "Instead, in trigonometric functions the **reciprocal** of a trigonometric function like $\\tan(x)$ is called the *cotangent* or $\\cot(x)$. \n",
    "\n",
    "The **reciprocal** of $\\sin(x)$ is called the *cosecant* or $\\csc(x)$, and the **reciprocal** of $\\cos(x)$ is called *secant* or $\\sec(x)$."
   ],
   "id": "92069be70ea064af"
  },
  {
   "metadata": {},
   "cell_type": "markdown",
   "source": [
    "### Properties of $\\sin{x}, \\tan{x} \\cos{x}$\n",
    "\n",
    "Find the domain and range of the inverse functions.\n",
    "\n",
    "As the original graphs of $\\sin(x), \\cos(x) \\tan(x)$ do not satisfy the horizontal rule test to be able to formulate an inverse function we need to **restrict** the domain.\n",
    "\n",
    "Therefore, to graph the inverse function, we need to limit the domain to **one full cycle** to satisfy the horizontal rule test. This would mean the domain is restricted to the following limits:\n",
    "\n",
    "$$\\begin{align}\n",
    "\\sin(x) &\\Rightarrow \\, -\\frac{\\pi}{2} \\leq x \\leq \\frac{\\pi}{2} \\\\ \\\\\n",
    "\\cos(x) &\\Rightarrow \\, 0 \\leq x \\leq \\pi \\\\ \\\\\n",
    "\\tan(x) &\\Rightarrow \\, -\\frac{\\pi}{2} \\leq x \\leq \\frac{\\pi}{2}\n",
    "\\end{align}$$\n",
    "\n",
    "What are the properties of $\\sin^{-1}$, $\\cos^{-1}$ and $\\tan^{-1}$?\n",
    "\n",
    "(Otherwise known as $\\arcsin$, $\\arccos$ and $\\arctan$)"
   ],
   "id": "45dd2757bea52de5"
  },
  {
   "metadata": {},
   "cell_type": "markdown",
   "source": [
    "### Inverse Functions of Functions\n",
    "\n",
    "When $x$ is in the first quadrant (eg. $0 \\leq x \\leq \\frac{\\pi}{2}$):\n",
    "\n",
    "$\\sin^{-1}(\\sin(x)) = x$\n",
    "\n",
    "When $x$ is in another quadrant, we would apply normal trig procedures. For example, if trying to solve for $a$ with this domain...\n",
    "\n",
    "$$\\begin{align}\n",
    "\\sin^{-1}(\\sin(a)) \\quad \\pi \\leq x \\leq \\frac{3\\pi}{2} \\quad \\text{(third quandrant)} \n",
    "\\end{align}$$ \n",
    "\n",
    "It would mean to find the solution for $a$ we would need to apply $\\pi - a$.\n",
    "\n",
    "What happens when we have $\\sin(\\sin^{-1}(x))$?\n",
    "\n",
    "Firstly, find the domain of the innermost function ($\\sin^{-1}(x)$):\n",
    "\n",
    "$$\\begin{align}\n",
    "\\sin(\\sin^{-1}(x)) &\\Rightarrow -1 \\leq x \\leq 1 &&\\text{domain of inverse $\\sin(x)$} \\\\\n",
    "\\sin^{-1}(\\sin(x)) &\\Rightarrow \\text{all real $x$} &&\\text{domain of $\\sin(x)$} \\\\\n",
    "\\end{align}$$\n",
    "\n",
    "Next, find significant points:\n",
    "\n",
    "$0, \\frac{\\pi}{2}, \\pi, \\frac{3\\pi}{2}, ...$\n",
    "\n",
    "The result ends up being a line in the shape similar to $y = x$ that starts at $(-1, -1)$ and extends to $(1, 1)$.\n",
    "\n",
    "Another technique is to restore the function back to basic trigonometric principles.\n",
    "\n",
    "For example, to solve the following question: $\\cos{(\\sin^{-1}{x})}$\n",
    "\n",
    "We would first start with the innermost function $\\sin^{-1}{x}$"
   ],
   "id": "7a81a116a0dde7da"
  },
  {
   "metadata": {},
   "cell_type": "markdown",
   "source": [
    "### Odd Functions\n",
    "\n",
    "Some trigonometric functions are odd functions in nature meaning that when their inner value is negative the negative sign inside can be moved to the front of the function.\n",
    "\n",
    "$$\\begin{align*}\n",
    "\\sin^{-1}(-x) &= -\\sin^{-1}(x) &&\\text{(odd)} \\\\\n",
    "\\tan^{-1}(-x) &= -\\tan^{-1}(x) &&\\text{(odd)} \\\\\n",
    "\\cos^{-1}(-x) &= \\pi - \\cos^{-1}(x)\n",
    "\\end{align*}$$"
   ],
   "id": "83a746a947e354"
  },
  {
   "metadata": {},
   "cell_type": "markdown",
   "source": [
    "### Plotting Inverse Trig Functions of Functions\n",
    "\n",
    "When plotting inverse trig functions, we need to be mindful of the inside and outside functions.\n",
    "\n",
    "1. When the inside is inverse, we use the triangle technique to return the **inverse function** back to $\\theta$. For example, $\\sin^{-1}(x) = \\theta$ where we then draw a right-angle triangle with $\\theta$ inside and plot the opposite side $x$ and the hypotenuse as $1$. \n",
    "\n",
    "Next, we substitute the inner inverse trig function with $\\theta$ and then solve for the outer standard function by applying the standard method on $\\theta$ using our right-angle triangle. (You may need to solve for the hypotenuse)\n",
    "\n",
    "2. If the inner function is a standard trig function then find significant points (i.e. $0, \\frac{\\pi}{2}, \\pi$, ...) that are within the domain required and find the $y$ values at these points.\n",
    "\n",
    "Example when using the first approach would be questions like:\n",
    "\n",
    "* $\\cos(\\sin^{-1}{x})$\n",
    "* $\\tan(\\cos^{-1}{x})$\n",
    "\n",
    "Examples where the second approach would be used, would be those like:\n",
    "\n",
    "* $\\cos^{-1}(\\sin{x})$\n",
    "* $\\sin^{-1}(\\tan{x})$\n",
    "\n",
    "\n"
   ],
   "id": "abd0e88896289ef4"
  }
 ],
 "metadata": {
  "kernelspec": {
   "display_name": "Python 3",
   "language": "python",
   "name": "python3"
  },
  "language_info": {
   "codemirror_mode": {
    "name": "ipython",
    "version": 2
   },
   "file_extension": ".py",
   "mimetype": "text/x-python",
   "name": "python",
   "nbconvert_exporter": "python",
   "pygments_lexer": "ipython2",
   "version": "2.7.6"
  }
 },
 "nbformat": 4,
 "nbformat_minor": 5
}
